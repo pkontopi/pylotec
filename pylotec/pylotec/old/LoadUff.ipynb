{
 "cells": [
  {
   "cell_type": "code",
   "execution_count": 2,
   "metadata": {
    "tags": []
   },
   "outputs": [],
   "source": [
    "import numpy as np\n",
    "# from scipy.signal import find_peaks, peak_prominences\n",
    "import pyuff\n",
    "import os                       # OS stuff\n",
    "from tqdm import tqdm               #progressbar"
   ]
  },
  {
   "cell_type": "code",
   "execution_count": 38,
   "metadata": {},
   "outputs": [],
   "source": [
    "def load_uff(): \n",
    "    ordnerpfad = \"Data\"\n",
    "\n",
    "    if not os.path.exists(ordnerpfad):\n",
    "        os.makedirs(ordnerpfad)\n",
    "        os.makedirs(ordnerpfad+\"/uff\")\n",
    "        os.makedirs(ordnerpfad+\"/NumPyArrays\")\n",
    "\n",
    "        input(\"The Data directory didn't exist. I made it. Please save your uff files there. Press any key to continue\")\n",
    "\n",
    "    meas = ordnerpfad+'/'\n",
    "\n",
    "    records=os.listdir(meas+'uff')\n",
    "\n",
    "    print(str(len(records))+\" files found in the Data Directory. Please type: \\n\")\n",
    "    \n",
    "    for i in range(len(records)): \n",
    "        print(str(i)+\" for \"+str(records[i]))\n",
    "\n",
    "    decision = input()\n",
    "    decision = int(decision)\n",
    "\n",
    "    if decision > len(records)-1: \n",
    "       print('Error: No valid input.')\n",
    "\n",
    "    mess=records[decision][:-4]\n",
    "\n",
    "    path=meas+'uff/'+mess+\".uff\"\n",
    "    uff_file = pyuff.UFF(path)\n",
    "\n",
    "    # geometrie auslesen (type 15 bzw. 2411 (double) )\n",
    "    IDs = np.where(uff_file.get_set_types() == 2411)\n",
    "\n",
    "    if len(IDs[0])==1:\n",
    "        Nodes=uff_file.read_sets(IDs[0][0])\n",
    "    else:\n",
    "        print(\"Error\")\n",
    "\n",
    "    # get recording date\n",
    "    IDs = np.where(uff_file.get_set_types() == 151)\n",
    "    uff_file.read_sets(IDs[0][0])['date_db_created']\n",
    "\n",
    "    # Laser- und Hammer-signal suchen und speichern\n",
    "    veloIDs=[]\n",
    "    forceIDs=[]\n",
    "\n",
    "    for i in tqdm(range(len(uff_file.get_set_types()))):\n",
    "        if uff_file.get_set_types()[i]==58: #daten suchen\n",
    "            if uff_file.read_sets(i)['id1']=='Response Time Trace': \n",
    "                if uff_file.read_sets(i)['id2']=='Vib  Geschwindigkeit': \n",
    "                    veloIDs.append(i)\n",
    "            if uff_file.read_sets(i)['id1']=='Reference Time Trace':             \n",
    "                if uff_file.read_sets(i)['id2']=='Ref1  Kraft': \n",
    "                    forceIDs.append(i)\n",
    "            \n",
    "    velocities = uff_file.read_sets(veloIDs)\n",
    "    forces = uff_file.read_sets(forceIDs)\n",
    "\n",
    "    LL=len(velocities)\n",
    "\n",
    "    #messwerte und Positionen in NumPy-Array schreiben\n",
    "\n",
    "    X=np.zeros(LL)\n",
    "    Y=np.zeros(LL)\n",
    "    Z=np.zeros(LL)\n",
    "\n",
    "    Vel=np.zeros((LL,len(velocities[1]['x'])))\n",
    "    Force=np.zeros((LL,len(velocities[1]['x'])))\n",
    "    for i in range(LL):\n",
    "        Force[i]=(forces[i]['data']) \n",
    "        Vel[i]=(velocities[i]['data']) \n",
    "        node_id=velocities[i]['rsp_node']\n",
    "        id=np.where(Nodes['node_nums']==node_id)[0][0] \n",
    "        X[i]=Nodes['x'][id]\n",
    "        Y[i]=Nodes['y'][id]\n",
    "        Z[i]=Nodes['z'][id]\n",
    "\n",
    "    np.save(meas + 'NumPyArrays/'+ mess + '_Xnodes', X)\n",
    "    np.save(meas + 'NumPyArrays/'+ mess + '_Ynodes', Y)\n",
    "    np.save(meas + 'NumPyArrays/'+ mess + '_Znodes', Z)\n",
    "    np.save(meas + 'NumPyArrays/'+ mess + '_velocities', Vel)\n",
    "    np.save(meas + 'NumPyArrays/'+ mess + '_forces', Force)\n"
   ]
  },
  {
   "cell_type": "code",
   "execution_count": 41,
   "metadata": {
    "tags": []
   },
   "outputs": [
    {
     "name": "stdout",
     "output_type": "stream",
     "text": [
      "2 files found in the Data Directory. Please type: \n",
      "\n",
      "0 for Diatomischer Kristall Kurs SoSe 23.uff\n",
      "1 for Diatomischer Kristall M2.uff\n",
      "No valid input.\n"
     ]
    },
    {
     "ename": "IndexError",
     "evalue": "list index out of range",
     "output_type": "error",
     "traceback": [
      "\u001b[0;31m---------------------------------------------------------------------------\u001b[0m",
      "\u001b[0;31mIndexError\u001b[0m                                Traceback (most recent call last)",
      "Cell \u001b[0;32mIn[41], line 1\u001b[0m\n\u001b[0;32m----> 1\u001b[0m \u001b[43mload_uff\u001b[49m\u001b[43m(\u001b[49m\u001b[43m)\u001b[49m\n",
      "Cell \u001b[0;32mIn[38], line 26\u001b[0m, in \u001b[0;36mload_uff\u001b[0;34m()\u001b[0m\n\u001b[1;32m     23\u001b[0m \u001b[38;5;28;01mif\u001b[39;00m decision \u001b[38;5;241m>\u001b[39m \u001b[38;5;28mlen\u001b[39m(records)\u001b[38;5;241m-\u001b[39m\u001b[38;5;241m1\u001b[39m: \n\u001b[1;32m     24\u001b[0m    \u001b[38;5;28mprint\u001b[39m(\u001b[38;5;124m'\u001b[39m\u001b[38;5;124mNo valid input.\u001b[39m\u001b[38;5;124m'\u001b[39m)\n\u001b[0;32m---> 26\u001b[0m mess\u001b[38;5;241m=\u001b[39m\u001b[43mrecords\u001b[49m\u001b[43m[\u001b[49m\u001b[43mdecision\u001b[49m\u001b[43m]\u001b[49m[:\u001b[38;5;241m-\u001b[39m\u001b[38;5;241m4\u001b[39m]\n\u001b[1;32m     28\u001b[0m path\u001b[38;5;241m=\u001b[39mmeas\u001b[38;5;241m+\u001b[39m\u001b[38;5;124m'\u001b[39m\u001b[38;5;124muff/\u001b[39m\u001b[38;5;124m'\u001b[39m\u001b[38;5;241m+\u001b[39mmess\u001b[38;5;241m+\u001b[39m\u001b[38;5;124m\"\u001b[39m\u001b[38;5;124m.uff\u001b[39m\u001b[38;5;124m\"\u001b[39m\n\u001b[1;32m     29\u001b[0m uff_file \u001b[38;5;241m=\u001b[39m pyuff\u001b[38;5;241m.\u001b[39mUFF(path)\n",
      "\u001b[0;31mIndexError\u001b[0m: list index out of range"
     ]
    }
   ],
   "source": [
    "load_uff()"
   ]
  }
 ],
 "metadata": {
  "kernelspec": {
   "display_name": "Python 3",
   "language": "python",
   "name": "python3"
  },
  "language_info": {
   "codemirror_mode": {
    "name": "ipython",
    "version": 3
   },
   "file_extension": ".py",
   "mimetype": "text/x-python",
   "name": "python",
   "nbconvert_exporter": "python",
   "pygments_lexer": "ipython3",
   "version": "3.11.4"
  }
 },
 "nbformat": 4,
 "nbformat_minor": 4
}
